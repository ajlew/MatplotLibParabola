{
 "cells": [
  {
   "cell_type": "markdown",
   "metadata": {},
   "source": [
    "## Parabola"
   ]
  },
  {
   "cell_type": "code",
   "execution_count": 2,
   "metadata": {},
   "outputs": [],
   "source": [
    "import matplotlib.pyplot as plt\n",
    "import math\n",
    "import numpy as np"
   ]
  },
  {
   "cell_type": "code",
   "execution_count": 9,
   "metadata": {
    "scrolled": true
   },
   "outputs": [
    {
     "name": "stdout",
     "output_type": "stream",
     "text": [
      "Input a: 5\n",
      "Input b: -1\n",
      "Input c: -4\n",
      "root: 81, Vertex axis p:0.1, Vertex q:-4.05, x_1:  1.0, x_2:  -0.8\n"
     ]
    },
    {
     "data": {
      "image/png": "[encoded data removed]",
      "text/plain": [
       "<Figure size 432x288 with 1 Axes>"
      ]
     },
     "metadata": {
      "needs_background": "light"
     },
     "output_type": "display_data"
    }
   ],
   "source": [
    "a = int(input('Input a: '))\n",
    "b = int(input('Input b: '))\n",
    "c = int(input('Input c: '))\n",
    "\n",
    "# calculate root and zero points\n",
    "root = b**2 - 4*a*c\n",
    "\n",
    "\n",
    "if root >= 0:\n",
    "    x_1 = (-b + math.sqrt(root))/(2*a)\n",
    "    x_2 = (-b - math.sqrt(root))/(2*a)\n",
    "if root < 0:\n",
    "    x_0 = -b/(2*a)\n",
    "else:\n",
    "    pass\n",
    "\n",
    "# calculate parabola vertex coordinates\n",
    "p = -b/(2*a)\n",
    "q = -root/(4*a)\n",
    "vertex = [p,q]\n",
    "\n",
    "# print the summary\n",
    "#print(root)\n",
    "#print((x_1))\n",
    "#print((x_2))\n",
    "#print(p)\n",
    "#print(q)\n",
    "\n",
    "if root >= 0:\n",
    "    print ('root: ' + str(root) + ', Vertex axis p:'  + str(p) + ', Vertex q:' + str(q) +', x_1:  ' + str(x_1) + ', x_2:  '  + str(x_2) )\n",
    "else:\n",
    "    \n",
    "    if root < 0:\n",
    "        print ('no roots or root <0: ' + str(root) + ', x_0:  ' + str(x_0)+ ', Vertex axis p:'  + str(p) + ', Vertex q:' + str(q))\n",
    "    \n",
    "\n",
    "    pass\n",
    "\n",
    "\n",
    "\n",
    "\n",
    "# define parabola function\n",
    "def parabola(x,a,b,c):\n",
    "    y = a*x**2 + b*x + c\n",
    "    return y\n",
    "\n",
    "# plot function\n",
    "x = np.linspace(int(p)-3,int(p)+3,100)\n",
    "y = parabola(x,a,b,c)\n",
    "plt.plot(x,y)\n",
    "plt.axhline(y=0, color='black', linestyle='-')\n",
    "plt.axvline(x=0, color='black', linestyle='-')\n",
    "plt.text(p-0.5, q-3, '[' + str(round(p,2)) +',' + str(round(q,2)) + ']',color='orange', fontsize=11)\n",
    "plt.plot(p, q, marker=\"o\")\n",
    "plt.xlim([x[0],x[-1]])\n",
    "\n",
    "if root >= 0:\n",
    "    plt.plot(x_1, 0, marker=\"o\", color='green')\n",
    "    plt.text(x_1 - 0.5, 2, '[' + str(round(x_1,2)) + ']', color='green', fontsize=9)\n",
    "    plt.plot(x_2, 0, marker=\"o\", color='green')\n",
    "    plt.text(x_2 - 0.5, 2, '[' + str(round(x_2,2)) + ']', color='green', fontsize=9)\n",
    "\n",
    "if root < 0:\n",
    "    plt.plot(x_0, 0, marker=\"o\", color='green')\n",
    "    plt.text(x_0 - 0.5, 2, '[' + str(round(x_0,2)) + ']', color='black', fontsize=12)\n",
    "\n",
    "plt.show()"
   ]
  },
  {
   "cell_type": "code",
   "execution_count": null,
   "metadata": {},
   "outputs": [],
   "source": []
  },
  {
   "cell_type": "code",
   "execution_count": null,
   "metadata": {},
   "outputs": [],
   "source": []
  }
 ],
 "metadata": {
  "kernelspec": {
   "display_name": "Python 3",
   "language": "python",
   "name": "python3"
  },
  "language_info": {
   "codemirror_mode": {
    "name": "ipython",
    "version": 3
   },
   "file_extension": ".py",
   "mimetype": "text/x-python",
   "name": "python",
   "nbconvert_exporter": "python",
   "pygments_lexer": "ipython3",
   "version": "3.7.9"
  }
 },
 "nbformat": 4,
 "nbformat_minor": 4
}
